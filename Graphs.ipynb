{
 "cells": [
  {
   "cell_type": "markdown",
   "metadata": {},
   "source": [
    "# Données Russie année\n",
    "**Import des données**"
   ]
  },
  {
   "cell_type": "code",
   "execution_count": 1,
   "metadata": {},
   "outputs": [],
   "source": [
    "import plotly.express as px\n",
    "import plotly.graph_objects as go\n",
    "import json\n",
    "\n",
    "file_name = \"topaz-data732--france--fr.sputniknews.africa--20190101--20211231.json\"\n",
    "\n",
    "f = open(\"data/\"+file_name, 'r', encoding='utf-8')\n",
    "df = json.loads(f.read())\n",
    "f.close()\n"
   ]
  },
  {
   "cell_type": "markdown",
   "metadata": {},
   "source": [
    "### Nombre d'articles par mois dans le corpus"
   ]
  },
  {
   "cell_type": "code",
   "execution_count": 2,
   "metadata": {},
   "outputs": [
    {
     "ename": "KeyError",
     "evalue": "'data'",
     "output_type": "error",
     "traceback": [
      "\u001b[1;31m---------------------------------------------------------------------------\u001b[0m",
      "\u001b[1;31mKeyError\u001b[0m                                  Traceback (most recent call last)",
      "Cell \u001b[1;32mIn[2], line 3\u001b[0m\n\u001b[0;32m      1\u001b[0m articles_per_month \u001b[38;5;241m=\u001b[39m []\n\u001b[1;32m----> 3\u001b[0m data_months \u001b[38;5;241m=\u001b[39m \u001b[43mdf\u001b[49m\u001b[43m[\u001b[49m\u001b[38;5;124;43m\"\u001b[39;49m\u001b[38;5;124;43mdata\u001b[39;49m\u001b[38;5;124;43m\"\u001b[39;49m\u001b[43m]\u001b[49m\n\u001b[0;32m      4\u001b[0m \u001b[38;5;28;01mfor\u001b[39;00m year, months \u001b[38;5;129;01min\u001b[39;00m data_months\u001b[38;5;241m.\u001b[39mitems():\n\u001b[0;32m      5\u001b[0m     \u001b[38;5;28;01mfor\u001b[39;00m month, cat \u001b[38;5;129;01min\u001b[39;00m months\u001b[38;5;241m.\u001b[39mitems():\n",
      "\u001b[1;31mKeyError\u001b[0m: 'data'"
     ]
    }
   ],
   "source": [
    "articles_per_month = []\n",
    "\n",
    "data_months = df[\"data\"]\n",
    "for year, months in data_months.items():\n",
    "    for month, cat in months.items():\n",
    "        articles_count = sum(len(cat[c]) for c in cat)\n",
    "        articles_per_month.append([f\"{year}-{month}\",articles_count])\n",
    "        \n",
    "months = [articles_per_month[i][0] for i in range(len(articles_per_month))]\n",
    "counts = [articles_per_month[j][1] for j in range (len(articles_per_month))]\n",
    "    \n",
    "    \n",
    "\n",
    "fig = go.Figure(data=[\n",
    "    go.Bar( x=months, y=counts)\n",
    "])\n",
    "\n",
    "fig.update_layout(\n",
    "    title=\"Nombre d'articles par mois\",\n",
    "    xaxis_title=\"Mois\",\n",
    "    yaxis_title=\"Nombre d'articles\",\n",
    "    xaxis=dict(\n",
    "        tickmode=\"linear\",  # Forcer un affichage linéaire\n",
    "        tick0=0,  # Début de l'affichage\n",
    "        dtick=1  # Espacement entre chaque étiquette\n",
    "    ),\n",
    "    xaxis_tickangle=-45,\n",
    "    template=\"plotly_white\"\n",
    ")\n",
    "\n",
    "fig.show()"
   ]
  }
 ],
 "metadata": {
  "kernelspec": {
   "display_name": "Python 3",
   "language": "python",
   "name": "python3"
  },
  "language_info": {
   "codemirror_mode": {
    "name": "ipython",
    "version": 3
   },
   "file_extension": ".py",
   "mimetype": "text/x-python",
   "name": "python",
   "nbconvert_exporter": "python",
   "pygments_lexer": "ipython3",
   "version": "3.11.9"
  }
 },
 "nbformat": 4,
 "nbformat_minor": 2
}
